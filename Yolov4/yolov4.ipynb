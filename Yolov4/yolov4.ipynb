{
 "metadata": {
  "language_info": {
   "codemirror_mode": {
    "name": "ipython",
    "version": 3
   },
   "file_extension": ".py",
   "mimetype": "text/x-python",
   "name": "python",
   "nbconvert_exporter": "python",
   "pygments_lexer": "ipython3",
   "version": "3.8.6-final"
  },
  "orig_nbformat": 2,
  "kernelspec": {
   "name": "python3",
   "display_name": "Python 3",
   "language": "python"
  }
 },
 "nbformat": 4,
 "nbformat_minor": 2,
 "cells": [
  {
   "cell_type": "code",
   "execution_count": 2,
   "metadata": {},
   "outputs": [],
   "source": [
    "from yolov4.tf import YOLOv4"
   ]
  },
  {
   "cell_type": "code",
   "execution_count": 24,
   "metadata": {},
   "outputs": [],
   "source": [
    "yolo = YOLOv4()\n",
    "\n",
    "yolo.classes = \"coco.names\"\n",
    "yolo.input_size = 416\n",
    "yolo.make_model()\n",
    "yolo.load_weights(\"yolov4.weights\", weights_type=\"yolo\")\n",
    "\n",
    "# datasets = yolo.load_datasets(\"/home/hhk7734/tensorflow-yolov4/data/dataset/val2017.txt\")\n",
    "\n",
    "# yolo.compile(learning_rate=4e-7)\n",
    "# yolo.fit(datasets, epochs=4000, batch_size=4)\n",
    "\n",
    "# yolo.model.save_weights(\"checkpoints\")"
   ]
  },
  {
   "cell_type": "code",
   "execution_count": null,
   "metadata": {},
   "outputs": [],
   "source": [
    "yolo.inference(\"kite.jpg\")"
   ]
  },
  {
   "cell_type": "code",
   "execution_count": null,
   "metadata": {},
   "outputs": [],
   "source": [
    "import tensorflow.keras import optimizers\n",
    "from yolov4.tf import YOLOv4\n",
    "\n",
    "yolo = YOLOv4()\n",
    "\n",
    "yolo.classes = \"coco.names\"\n",
    "yolo.input_size = 608\n",
    "yolo.batch_size = 32\n",
    "yolo.subdivision = 16\n",
    "\n",
    "yolo.make_model()\n",
    "yolo.load_weights(\"yolov4.weights\", weights_type=\"yolo\")\n",
    "\n",
    "data_set = yolo.load_dataset(\"val2017.txt\")\n",
    "# data_set = yolo.load_dataset(\n",
    "#     \"/home/hhk7734/darknet/data/train.txt\",\n",
    "#     dataset_type=\"yolo\",\n",
    "# )\n",
    "\n",
    "optimizer = optimizers.Adam(learning_rate=1e-4)\n",
    "yolo.compile(optimizer=optimizer, loss_iou_type=\"ciou\")\n",
    "\n",
    "yolo.fit(data_set, epochs=1500)\n",
    "yolo.model.save_weights(\"checkpoints\")"
   ]
  }
 ]
}